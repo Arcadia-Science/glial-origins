{
 "cells": [
  {
   "cell_type": "code",
   "execution_count": 31,
   "id": "1852e637-ee5f-46fc-a584-e789ed94198c",
   "metadata": {},
   "outputs": [
    {
     "data": {
      "text/plain": [
       "True"
      ]
     },
     "metadata": {},
     "output_type": "display_data"
    }
   ],
   "source": [
    "import subprocess\n",
    "import os\n",
    "import pandas as pd\n",
    "\n",
    "ID_MAPPER_LOC = '../../utils/id_mapper.sh'\n",
    "\n",
    "display(os.path.exists(ID_MAPPER_LOC))"
   ]
  },
  {
   "cell_type": "code",
   "execution_count": 32,
   "id": "04da4bbe-ef7c-4ae4-b9cd-b29e5cdd7cc4",
   "metadata": {},
   "outputs": [],
   "source": [
    "input_file_loc = './Dmel_ids.txt'\n",
    "from_type = 'FlyBase'\n",
    "to_type = 'UniProtKB'"
   ]
  },
  {
   "cell_type": "code",
   "execution_count": 33,
   "id": "6a75bbea-6555-46a8-aaa9-e6db6a569fbd",
   "metadata": {},
   "outputs": [
    {
     "name": "stderr",
     "output_type": "stream",
     "text": [
      "  % Total    % Received % Xferd  Average Speed   Time    Time     Time  Current\n",
      "                                 Dload  Upload   Total   Spent    Left  Speed\n",
      "100   105    0    52  100    53     32     33  0:00:01  0:00:01 --:--:--    65\n",
      "  % Total    % Received % Xferd  Average Speed   Time    Time     Time  Current\n",
      "                                 Dload  Upload   Total   Spent    Left  Speed\n",
      "100    24    0    24    0     0     40      0 --:--:-- --:--:-- --:--:--    40\n"
     ]
    },
    {
     "data": {
      "text/plain": [
       "CompletedProcess(args=['../../utils/id_mapper.sh', './Dmel_ids.txt', 'FlyBase', 'UniProtKB'], returncode=0)"
      ]
     },
     "execution_count": 33,
     "metadata": {},
     "output_type": "execute_result"
    }
   ],
   "source": [
    "subprocess.run([ID_MAPPER_LOC, input_file_loc, from_type, to_type])"
   ]
  },
  {
   "cell_type": "code",
   "execution_count": 35,
   "id": "4a093a77-ffd0-471f-a379-28479c297241",
   "metadata": {},
   "outputs": [
    {
     "data": {
      "text/html": [
       "<div>\n",
       "<style scoped>\n",
       "    .dataframe tbody tr th:only-of-type {\n",
       "        vertical-align: middle;\n",
       "    }\n",
       "\n",
       "    .dataframe tbody tr th {\n",
       "        vertical-align: top;\n",
       "    }\n",
       "\n",
       "    .dataframe thead th {\n",
       "        text-align: right;\n",
       "    }\n",
       "</style>\n",
       "<table border=\"1\" class=\"dataframe\">\n",
       "  <thead>\n",
       "    <tr style=\"text-align: right;\">\n",
       "      <th></th>\n",
       "      <th>From</th>\n",
       "      <th>Entry</th>\n",
       "      <th>Entry Name</th>\n",
       "      <th>Reviewed</th>\n",
       "      <th>Protein names</th>\n",
       "      <th>Gene Names</th>\n",
       "      <th>Organism</th>\n",
       "      <th>Length</th>\n",
       "    </tr>\n",
       "  </thead>\n",
       "  <tbody>\n",
       "    <tr>\n",
       "      <th>0</th>\n",
       "      <td>FBgn0003900</td>\n",
       "      <td>P10627</td>\n",
       "      <td>TWIST_DROME</td>\n",
       "      <td>reviewed</td>\n",
       "      <td>Protein twist</td>\n",
       "      <td>twi CG2956</td>\n",
       "      <td>Drosophila melanogaster (Fruit fly)</td>\n",
       "      <td>490</td>\n",
       "    </tr>\n",
       "    <tr>\n",
       "      <th>1</th>\n",
       "      <td>FBgn0003900</td>\n",
       "      <td>A0A0B4LGC1</td>\n",
       "      <td>A0A0B4LGC1_DROME</td>\n",
       "      <td>unreviewed</td>\n",
       "      <td>Twist, isoform C</td>\n",
       "      <td>twi bHLHb17 dip5 Dmel\\CG2956 DTwist EC9 Tw TWI...</td>\n",
       "      <td>Drosophila melanogaster (Fruit fly)</td>\n",
       "      <td>490</td>\n",
       "    </tr>\n",
       "    <tr>\n",
       "      <th>2</th>\n",
       "      <td>FBgn0000490</td>\n",
       "      <td>P07713</td>\n",
       "      <td>DECA_DROME</td>\n",
       "      <td>reviewed</td>\n",
       "      <td>Protein decapentaplegic (Protein DPP-C)</td>\n",
       "      <td>dpp CG9885</td>\n",
       "      <td>Drosophila melanogaster (Fruit fly)</td>\n",
       "      <td>588</td>\n",
       "    </tr>\n",
       "  </tbody>\n",
       "</table>\n",
       "</div>"
      ],
      "text/plain": [
       "          From       Entry        Entry Name    Reviewed  \\\n",
       "0  FBgn0003900      P10627       TWIST_DROME    reviewed   \n",
       "1  FBgn0003900  A0A0B4LGC1  A0A0B4LGC1_DROME  unreviewed   \n",
       "2  FBgn0000490      P07713        DECA_DROME    reviewed   \n",
       "\n",
       "                             Protein names  \\\n",
       "0                            Protein twist   \n",
       "1                         Twist, isoform C   \n",
       "2  Protein decapentaplegic (Protein DPP-C)   \n",
       "\n",
       "                                          Gene Names  \\\n",
       "0                                         twi CG2956   \n",
       "1  twi bHLHb17 dip5 Dmel\\CG2956 DTwist EC9 Tw TWI...   \n",
       "2                                         dpp CG9885   \n",
       "\n",
       "                              Organism  Length  \n",
       "0  Drosophila melanogaster (Fruit fly)     490  \n",
       "1  Drosophila melanogaster (Fruit fly)     490  \n",
       "2  Drosophila melanogaster (Fruit fly)     588  "
      ]
     },
     "metadata": {},
     "output_type": "display_data"
    }
   ],
   "source": [
    "output_file_loc = input_file_loc.replace('_ids.txt', '_UniProtIDs.txt')\n",
    "output_df = pd.read_csv(output_file_loc, sep = '\\t')\n",
    "display(output_df)"
   ]
  },
  {
   "cell_type": "code",
   "execution_count": null,
   "id": "d0f6dd4b-4733-4142-82be-e92693573d93",
   "metadata": {},
   "outputs": [],
   "source": []
  }
 ],
 "metadata": {
  "kernelspec": {
   "display_name": "Python 3 (ipykernel)",
   "language": "python",
   "name": "python3"
  },
  "language_info": {
   "codemirror_mode": {
    "name": "ipython",
    "version": 3
   },
   "file_extension": ".py",
   "mimetype": "text/x-python",
   "name": "python",
   "nbconvert_exporter": "python",
   "pygments_lexer": "ipython3",
   "version": "3.10.6"
  }
 },
 "nbformat": 4,
 "nbformat_minor": 5
}
