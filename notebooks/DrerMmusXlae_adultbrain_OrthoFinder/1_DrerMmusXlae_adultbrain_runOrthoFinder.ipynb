{
 "cells": [
  {
   "cell_type": "markdown",
   "id": "3df6c5ba-21b7-4f9a-aedb-9db92d7882cf",
   "metadata": {},
   "source": [
    "# 0. Setup\n",
    "\n",
    "Import packages and specify any important functions here."
   ]
  },
  {
   "cell_type": "code",
   "execution_count": 1,
   "id": "aac310d7-4800-4b49-aa99-48d455aa03d1",
   "metadata": {},
   "outputs": [],
   "source": [
    "# import standard python packages\n",
    "import pandas as pd\n",
    "import subprocess\n",
    "import os\n",
    "import dill\n",
    "\n",
    "# add the utils and env directories to the path\n",
    "import sys\n",
    "sys.path.append('../../utils/')\n",
    "sys.path.append('../../env/')\n",
    "\n",
    "# import functions from utils directory files\n",
    "from string_functions import *\n",
    "from biofile_handling import *\n",
    "\n",
    "# import paths to software installs from env\n",
    "from install_locs import *"
   ]
  },
  {
   "cell_type": "markdown",
   "id": "84395a54-f8ad-4342-bbd1-6e959c6470da",
   "metadata": {},
   "source": [
    "# 1. Collect Dockets for each starting dataset\n",
    "Collects Dockets for each of the species datasets in the `species_dict`.\n",
    "\n",
    "This `dict` expects key:value pairs in the form of `species`:`conditions` and is passed to the MultiSpeciesDocket class, which creates a folder in `output/` for the analysis.\n",
    "\n",
    "The folder name takes the following format:\n",
    "\n",
    "- `species_concat` + `_` + `global_conditions` + `analysis_type`\n",
    "\n",
    "Where `species_concat` is the string concatenation of the alphabetize list of species prefixes."
   ]
  },
  {
   "cell_type": "code",
   "execution_count": 2,
   "id": "e1ea15e7-b9de-4247-a0c8-c641879a58c6",
   "metadata": {},
   "outputs": [],
   "source": [
    "################\n",
    "# general info #\n",
    "################\n",
    "\n",
    "species_dict = {\n",
    "    'Danio_rerio': 'adultbrain',\n",
    "    'Mus_musculus': 'adultbrain',\n",
    "    'Xenopus_laevis': 'adultbrain'\n",
    "}\n",
    "\n",
    "global_conditions = 'adultbrain'\n",
    "\n",
    "analysis_type = 'OrthoFinder'\n",
    "\n",
    "################\n",
    "\n",
    "sample_MSD = MultiSpeciesDocket(\n",
    "    species_dict = species_dict,\n",
    "    global_conditions = global_conditions,\n",
    "    analysis_type = analysis_type\n",
    "    )\n",
    "\n",
    "sample_MSD.make_directory()\n",
    "sample_MSD.get_Dockets()"
   ]
  },
  {
   "cell_type": "markdown",
   "id": "1e3bf493-da0f-42bc-904d-fc4c6dd6ca2b",
   "metadata": {},
   "source": [
    "# 2. Get the peptide file paths from each Docket"
   ]
  },
  {
   "cell_type": "code",
   "execution_count": 3,
   "id": "8bb0f3ca-f82a-48a8-93e1-7c0b9f60178b",
   "metadata": {},
   "outputs": [
    {
     "data": {
      "text/plain": [
       "{'Drer': <biofile_handling.TransdecoderOutFile at 0x7faaff32e5f0>,\n",
       " 'Mmus': <biofile_handling.TransdecoderOutFile at 0x7faaff32f2b0>,\n",
       " 'Xlae': <biofile_handling.TransdecoderOutFile at 0x7faaff32f910>}"
      ]
     },
     "metadata": {},
     "output_type": "display_data"
    },
    {
     "name": "stdout",
     "output_type": "stream",
     "text": [
      "file /home/ec2-user/glial-origins/output/Drer_adultbrain/GCF_000002035.5_GRCz10_genomic_cDNA.fna.transdecoder.pep has already been moved\n",
      "file /home/ec2-user/glial-origins/output/Mmus_adultbrain/GCF_000001635.23_GRCm38.p3_genomic_cDNA.fna.transdecoder.pep has already been moved\n",
      "file /home/ec2-user/glial-origins/output/Xlae_adultbrain/XENLA_9.2_genome_cDNA.fa.transdecoder.pep has already been moved\n"
     ]
    }
   ],
   "source": [
    "peptide_files = {pre: sample_MSD.species_Dockets[pre].transdecoder_pep for pre in sample_MSD.species_Dockets}\n",
    "display(peptide_files)\n",
    "\n",
    "for pepfile in peptide_files.values():\n",
    "    start = os.path.abspath(pepfile.path)\n",
    "    end = sample_MSD.directory + pepfile.filename\n",
    "    if not os.path.exists(end):\n",
    "        print('copying', start, 'to', end)\n",
    "        subprocess.run(['cp', start, end])\n",
    "    else:\n",
    "        print('file', start, 'has already been moved')"
   ]
  },
  {
   "cell_type": "markdown",
   "id": "4963be4b-109a-416b-bc59-4459f8d3dd3b",
   "metadata": {},
   "source": [
    "# 3. Run OrthoFinder on all collected peptide files\n",
    "\n",
    "Before running, will check if analysis has already been done - if so, continues."
   ]
  },
  {
   "cell_type": "code",
   "execution_count": 4,
   "id": "7eb64c17-a8f8-43bb-9285-04cecb6c6d9c",
   "metadata": {},
   "outputs": [
    {
     "name": "stdout",
     "output_type": "stream",
     "text": [
      "Results folder already exists at /home/ec2-user/glial-origins/output/DrerMmusXlae_adultbrain_OrthoFinder/OrthoFinder/Results_DrerMmusXlae_adultbrain\n"
     ]
    },
    {
     "data": {
      "text/html": [
       "<div>\n",
       "<style scoped>\n",
       "    .dataframe tbody tr th:only-of-type {\n",
       "        vertical-align: middle;\n",
       "    }\n",
       "\n",
       "    .dataframe tbody tr th {\n",
       "        vertical-align: top;\n",
       "    }\n",
       "\n",
       "    .dataframe thead th {\n",
       "        text-align: right;\n",
       "    }\n",
       "</style>\n",
       "<table border=\"1\" class=\"dataframe\">\n",
       "  <thead>\n",
       "    <tr style=\"text-align: right;\">\n",
       "      <th></th>\n",
       "      <th>Orthogroup</th>\n",
       "      <th>GCF_000001635.23_GRCm38.p3_genomic_cDNA.fna.transdecoder</th>\n",
       "      <th>GCF_000002035.5_GRCz10_genomic_cDNA.fna.transdecoder</th>\n",
       "      <th>XENLA_9.2_genome_cDNA.fa.transdecoder</th>\n",
       "    </tr>\n",
       "  </thead>\n",
       "  <tbody>\n",
       "    <tr>\n",
       "      <th>0</th>\n",
       "      <td>OG0000000</td>\n",
       "      <td>gene16575.p2, rna13103.p1, rna75711.p2, rna921...</td>\n",
       "      <td>gene10036.p1, gene10201.p2, gene10535.p1, gene...</td>\n",
       "      <td>rna31757.p1, rna51854.p1, rna51855.p1, rna5838...</td>\n",
       "    </tr>\n",
       "    <tr>\n",
       "      <th>1</th>\n",
       "      <td>OG0000001</td>\n",
       "      <td>rna41863.p1</td>\n",
       "      <td>gene36062.p1, gene36087.p1, gene36102.p1, gene...</td>\n",
       "      <td>rna34151.p1, rna37031.p1</td>\n",
       "    </tr>\n",
       "    <tr>\n",
       "      <th>2</th>\n",
       "      <td>OG0000002</td>\n",
       "      <td>NaN</td>\n",
       "      <td>NaN</td>\n",
       "      <td>gene2667.p1, gene2689.p1, gene2689.p2, gene299...</td>\n",
       "    </tr>\n",
       "    <tr>\n",
       "      <th>3</th>\n",
       "      <td>OG0000003</td>\n",
       "      <td>gene44223.p3, gene4542.p1, rna109419.p1, rna11...</td>\n",
       "      <td>gene10036.p3, gene10085.p1, gene10201.p1, gene...</td>\n",
       "      <td>gene20017.p1, rna11833.p1, rna34226.p1, rna342...</td>\n",
       "    </tr>\n",
       "    <tr>\n",
       "      <th>4</th>\n",
       "      <td>OG0000004</td>\n",
       "      <td>NaN</td>\n",
       "      <td>gene10085.p2, gene10303.p2, gene10850.p1, gene...</td>\n",
       "      <td>gene35990.p1</td>\n",
       "    </tr>\n",
       "    <tr>\n",
       "      <th>...</th>\n",
       "      <td>...</td>\n",
       "      <td>...</td>\n",
       "      <td>...</td>\n",
       "      <td>...</td>\n",
       "    </tr>\n",
       "    <tr>\n",
       "      <th>32412</th>\n",
       "      <td>OG0032412</td>\n",
       "      <td>NaN</td>\n",
       "      <td>NaN</td>\n",
       "      <td>rna9580.p2, rna9581.p2</td>\n",
       "    </tr>\n",
       "    <tr>\n",
       "      <th>32413</th>\n",
       "      <td>OG0032413</td>\n",
       "      <td>NaN</td>\n",
       "      <td>NaN</td>\n",
       "      <td>rna9870.p1, rna9871.p1</td>\n",
       "    </tr>\n",
       "    <tr>\n",
       "      <th>32414</th>\n",
       "      <td>OG0032414</td>\n",
       "      <td>NaN</td>\n",
       "      <td>NaN</td>\n",
       "      <td>rna9934.p1, rna9935.p1</td>\n",
       "    </tr>\n",
       "    <tr>\n",
       "      <th>32415</th>\n",
       "      <td>OG0032415</td>\n",
       "      <td>NaN</td>\n",
       "      <td>NaN</td>\n",
       "      <td>rna9954.p2, rna9955.p2</td>\n",
       "    </tr>\n",
       "    <tr>\n",
       "      <th>32416</th>\n",
       "      <td>OG0032416</td>\n",
       "      <td>NaN</td>\n",
       "      <td>NaN</td>\n",
       "      <td>rna9975.p1, rna9976.p1</td>\n",
       "    </tr>\n",
       "  </tbody>\n",
       "</table>\n",
       "<p>32417 rows × 4 columns</p>\n",
       "</div>"
      ],
      "text/plain": [
       "      Orthogroup GCF_000001635.23_GRCm38.p3_genomic_cDNA.fna.transdecoder  \\\n",
       "0      OG0000000  gene16575.p2, rna13103.p1, rna75711.p2, rna921...         \n",
       "1      OG0000001                                        rna41863.p1         \n",
       "2      OG0000002                                                NaN         \n",
       "3      OG0000003  gene44223.p3, gene4542.p1, rna109419.p1, rna11...         \n",
       "4      OG0000004                                                NaN         \n",
       "...          ...                                                ...         \n",
       "32412  OG0032412                                                NaN         \n",
       "32413  OG0032413                                                NaN         \n",
       "32414  OG0032414                                                NaN         \n",
       "32415  OG0032415                                                NaN         \n",
       "32416  OG0032416                                                NaN         \n",
       "\n",
       "      GCF_000002035.5_GRCz10_genomic_cDNA.fna.transdecoder  \\\n",
       "0      gene10036.p1, gene10201.p2, gene10535.p1, gene...     \n",
       "1      gene36062.p1, gene36087.p1, gene36102.p1, gene...     \n",
       "2                                                    NaN     \n",
       "3      gene10036.p3, gene10085.p1, gene10201.p1, gene...     \n",
       "4      gene10085.p2, gene10303.p2, gene10850.p1, gene...     \n",
       "...                                                  ...     \n",
       "32412                                                NaN     \n",
       "32413                                                NaN     \n",
       "32414                                                NaN     \n",
       "32415                                                NaN     \n",
       "32416                                                NaN     \n",
       "\n",
       "                   XENLA_9.2_genome_cDNA.fa.transdecoder  \n",
       "0      rna31757.p1, rna51854.p1, rna51855.p1, rna5838...  \n",
       "1                               rna34151.p1, rna37031.p1  \n",
       "2      gene2667.p1, gene2689.p1, gene2689.p2, gene299...  \n",
       "3      gene20017.p1, rna11833.p1, rna34226.p1, rna342...  \n",
       "4                                           gene35990.p1  \n",
       "...                                                  ...  \n",
       "32412                             rna9580.p2, rna9581.p2  \n",
       "32413                             rna9870.p1, rna9871.p1  \n",
       "32414                             rna9934.p1, rna9935.p1  \n",
       "32415                             rna9954.p2, rna9955.p2  \n",
       "32416                             rna9975.p1, rna9976.p1  \n",
       "\n",
       "[32417 rows x 4 columns]"
      ]
     },
     "metadata": {},
     "output_type": "display_data"
    }
   ],
   "source": [
    "results_folder = '_'.join(['Results', sample_MSD.species_concat, sample_MSD.global_conditions])\n",
    "of_folder = 'OrthoFinder/'\n",
    "results_folder_abspath = os.path.abspath(sample_MSD.directory + of_folder + results_folder)\n",
    "of_folder_abspath = os.path.abspath(sample_MSD.directory + of_folder)\n",
    "\n",
    "warn = True\n",
    "\n",
    "if not os.path.exists(results_folder_abspath):\n",
    "    \n",
    "    if warn and os.path.exists(of_folder_abspath):\n",
    "        raise Warning('A Results folder may already exist, set warn to False if you want to run anyway.')\n",
    "    else:\n",
    "        print('Running OrthoFinder')\n",
    "        subprocess.run([ORTHOFINDER_LOC, '-f', sample_MSD.directory, '-o', results_folder_abspath])\n",
    "else:\n",
    "    print('Results folder already exists at', results_folder_abspath)\n",
    "\n",
    "orthogroups_file = OrthoFinderOutputFile(\n",
    "    filename = '/Orthogroups/Orthogroups.tsv', \n",
    "    multispeciesdocket = sample_MSD,\n",
    "    directory = results_folder_abspath)\n",
    "\n",
    "orthogroups_df = pd.read_csv(orthogroups_file.path, sep = '\\t')\n",
    "display(orthogroups_df)"
   ]
  },
  {
   "cell_type": "markdown",
   "id": "61be3acd-f098-44bb-bbf4-9c9bea6a1150",
   "metadata": {},
   "source": [
    "# 4. Generate Orthofinder_exc file from gxc file of each starting dataset"
   ]
  },
  {
   "cell_type": "code",
   "execution_count": 5,
   "id": "dbac4c37-1aff-4fdc-9992-a2203b9ef111",
   "metadata": {},
   "outputs": [
    {
     "name": "stdout",
     "output_type": "stream",
     "text": [
      "Orthofinder_exc file already exists at ../../output/Drer_adultbrain/GSM3768152_Brain_8_dge_asOrthogroup.txt\n",
      "Orthofinder_exc file already exists at ../../output/Mmus_adultbrain/GSM2906405_Brain1_dge_coerced_asOrthogroup.txt\n",
      "Orthofinder_exc file already exists at ../../output/Xlae_adultbrain/GSM6214268_Xenopus_brain_COL65_dge_asOrthogroup.txt\n"
     ]
    }
   ],
   "source": [
    "for pre in sample_MSD.species_Dockets.keys():\n",
    "    \n",
    "    exc_filename = sample_MSD.species_Dockets[pre].gxc.filename.replace('.' + sample_MSD.species_Dockets[pre].gxc.filetype, '_asOrthogroup.' + sample_MSD.species_Dockets[pre].gxc.filetype)\n",
    "    \n",
    "    exc = ExcFile(\n",
    "            filename = exc_filename,\n",
    "            sampledict = sample_MSD.SampleDicts[pre],\n",
    "            gxcfile = sample_MSD.species_Dockets[pre].gxc,\n",
    "            embedding = 'Orthogroup'\n",
    "            )\n",
    "                                                                        \n",
    "    if os.path.exists(exc.path):\n",
    "        print('Orthofinder_exc file already exists at', exc.path)\n",
    "        sample_MSD.species_Dockets[pre].add_keyfile(exc, 'Orthogroup_exc')\n",
    "        \n",
    "        continue\n",
    "                                                                        \n",
    "    gtf_idmm_df = pd.read_csv(sample_MSD.species_Dockets[pre].gtf_idmm.path, index_col = 0, sep = '\\t')\n",
    "    species_column = sample_MSD.species_Dockets[pre].cdna.filename + '.transdecoder'\n",
    "    \n",
    "    orthogroups_df_copy = orthogroups_df.copy(deep = True)\n",
    "    \n",
    "    orthogroups_df_copy['protein_id'] = orthogroups_df_copy[species_column].str.split(', ')\n",
    "    orthogroups_df_copy = orthogroups_df_copy.explode('protein_id')\n",
    "    orthogroups_df_copy['transcript_id'] = orthogroups_df_copy['protein_id'].str.split('.', expand = True)[0]\n",
    "    \n",
    "    og_keys = orthogroups_df_copy[['transcript_id', 'protein_id', 'Orthogroup']].drop_duplicates()\n",
    "    og_keys.dropna(inplace = True)\n",
    "    \n",
    "    og_idmm_df = gtf_idmm_df.merge(og_keys, on = 'transcript_id')\n",
    "    \n",
    "    og_idmm_filename = pre + '_' + sample_MSD.SampleDicts[pre].conditions + '_og-idmm.tsv'\n",
    "    \n",
    "    og_idmm = IdmmFile(\n",
    "        filename = og_idmm_filename,\n",
    "        sampledict = sample_MSD.SampleDicts[pre],\n",
    "        kind = 'og_idmm',\n",
    "        sources = [orthogroups_file, sample_MSD.species_Dockets[pre].gtf_idmm]\n",
    "        )\n",
    "    \n",
    "    og_idmm_df.to_csv(og_idmm.path, sep = '\\t', index = None)\n",
    "    \n",
    "    sample_MSD.species_Dockets[pre].add_keyfile(og_idmm, 'og_idmm')\n",
    "    sample_MSD.species_Dockets[pre].add_keyfile(orthogroups_file, sample_MSD.species_concat + '_OGfile')\n",
    "    \n",
    "    og_gene_keys = og_idmm_df[['gene_name', 'Orthogroup']].drop_duplicates()\n",
    "    \n",
    "    gxc_df = pd.read_csv(sample_MSD.species_Dockets[pre].gxc.path, sep = '\\t')\n",
    "    gxc_original_dataname = gxc_df.columns[0]\n",
    "    gxc_df.rename(columns = {gxc_original_dataname: 'gene_name'}, inplace = True)\n",
    "    exc_df = og_gene_keys.merge(gxc_df, on = 'gene_name')\n",
    "    \n",
    "    exc_df = exc_df.drop(columns = 'gene_name')\n",
    "    exc_df = exc_df.groupby('Orthogroup').agg({i: ('first' if i == 'Orthogroup' else 'sum') for i in exc_df.columns}).reset_index(drop = True)\n",
    "    \n",
    "    exc_df.to_csv(exc.path, sep = '\\t', index = None)\n",
    "    sample_MSD.species_Dockets[pre].add_keyfile(exc, 'Orthogroup_exc')\n",
    "    \n",
    "    display(exc_df)"
   ]
  },
  {
   "cell_type": "markdown",
   "id": "c135c9ee-8f04-4bf5-9916-7b3eeb0f42b0",
   "metadata": {},
   "source": [
    "# 5. Generate merged exc file for all samples in dataset\n",
    "\n",
    "(TO BE WRITTEN)"
   ]
  },
  {
   "cell_type": "code",
   "execution_count": null,
   "id": "c30778eb-5480-4fda-84a2-462932b09b6a",
   "metadata": {},
   "outputs": [],
   "source": []
  },
  {
   "cell_type": "markdown",
   "id": "984a991a-f659-464f-aaf0-62637fb3bc88",
   "metadata": {},
   "source": [
    "# 6. Pickle the species_Docket files"
   ]
  },
  {
   "cell_type": "code",
   "execution_count": 6,
   "id": "f873483e-f652-4d15-bc4c-fe2ff9892456",
   "metadata": {},
   "outputs": [],
   "source": [
    "for pre in sample_MSD.species_Dockets.keys():\n",
    "\n",
    "    dill_filename = sample_MSD.species_Dockets[pre].directory + '_'.join([pre, sample_MSD.species_Dockets[pre].conditions, 'sample_Docket.pkl'])\n",
    "\n",
    "    with open(dill_filename, 'wb') as file:\n",
    "        dill.dump(sample_MSD.species_Dockets[pre], file)"
   ]
  },
  {
   "cell_type": "code",
   "execution_count": null,
   "id": "b1e678ce-1ec4-4a8d-9ebf-c77ed8d236b4",
   "metadata": {},
   "outputs": [],
   "source": []
  },
  {
   "cell_type": "code",
   "execution_count": null,
   "id": "fb57f7f7-81b2-4369-b0f5-2bc28412a0d0",
   "metadata": {},
   "outputs": [],
   "source": []
  },
  {
   "cell_type": "code",
   "execution_count": null,
   "id": "090a25cf-13eb-440e-9150-6525caeef939",
   "metadata": {},
   "outputs": [],
   "source": []
  },
  {
   "cell_type": "code",
   "execution_count": null,
   "id": "c50f981e-021c-4e4a-8198-a1ffb333ff17",
   "metadata": {},
   "outputs": [],
   "source": []
  },
  {
   "cell_type": "code",
   "execution_count": null,
   "id": "2006722c-b684-403e-a1bf-1c22ec0fa79d",
   "metadata": {},
   "outputs": [],
   "source": []
  }
 ],
 "metadata": {
  "kernelspec": {
   "display_name": "Python 3 (ipykernel)",
   "language": "python",
   "name": "python3"
  },
  "language_info": {
   "codemirror_mode": {
    "name": "ipython",
    "version": 3
   },
   "file_extension": ".py",
   "mimetype": "text/x-python",
   "name": "python",
   "nbconvert_exporter": "python",
   "pygments_lexer": "ipython3",
   "version": "3.10.6"
  }
 },
 "nbformat": 4,
 "nbformat_minor": 5
}
