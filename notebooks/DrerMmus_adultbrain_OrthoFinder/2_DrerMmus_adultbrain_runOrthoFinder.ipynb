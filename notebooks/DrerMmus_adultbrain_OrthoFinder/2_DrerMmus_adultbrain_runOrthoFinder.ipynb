{
 "cells": [
  {
   "cell_type": "markdown",
   "id": "3df6c5ba-21b7-4f9a-aedb-9db92d7882cf",
   "metadata": {},
   "source": [
    "# 0. Setup\n",
    "\n",
    "Import packages and specify any important functions here."
   ]
  },
  {
   "cell_type": "code",
   "execution_count": 1,
   "id": "aac310d7-4800-4b49-aa99-48d455aa03d1",
   "metadata": {},
   "outputs": [],
   "source": [
    "# import standard python packages\n",
    "import pandas as pd\n",
    "import subprocess\n",
    "import os\n",
    "import dill\n",
    "\n",
    "# add the utils and env directories to the path\n",
    "import sys\n",
    "sys.path.append('../../utils/')\n",
    "sys.path.append('../../env/')\n",
    "\n",
    "# import functions from utils directory files\n",
    "from string_functions import *\n",
    "from biofile_handling import *\n",
    "\n",
    "# import paths to software installs from env\n",
    "from install_locs import *"
   ]
  },
  {
   "cell_type": "markdown",
   "id": "84395a54-f8ad-4342-bbd1-6e959c6470da",
   "metadata": {},
   "source": [
    "# 1. Collect Dockets for each starting dataset\n",
    "Collects Dockets for each of the species datasets in the `species_dict`.\n",
    "\n",
    "This `dict` expects key:value pairs in the form of `species`:`conditions` and is passed to the MultiSpeciesDocket class, which creates a folder in `output/` for the analysis.\n",
    "\n",
    "The folder name takes the following format:\n",
    "\n",
    "- `species_concat` + `_` + `global_conditions` + `analysis_type`\n",
    "\n",
    "Where `species_concat` is the string concatenation of the alphabetize list of species prefixes."
   ]
  },
  {
   "cell_type": "code",
   "execution_count": 2,
   "id": "e1ea15e7-b9de-4247-a0c8-c641879a58c6",
   "metadata": {},
   "outputs": [],
   "source": [
    "################\n",
    "# general info #\n",
    "################\n",
    "\n",
    "species_dict = {\n",
    "    'Danio_rerio': 'adultbrain',\n",
    "    'Mus_musculus': 'adultbrain'\n",
    "}\n",
    "\n",
    "global_conditions = 'adultbrain'\n",
    "\n",
    "analysis_type = 'OrthoFinder'\n",
    "\n",
    "################\n",
    "\n",
    "sample_MSD = MultiSpeciesDocket(\n",
    "    species_dict = species_dict,\n",
    "    global_conditions = global_conditions,\n",
    "    analysis_type = analysis_type\n",
    "    )\n",
    "\n",
    "sample_MSD.make_directory()\n",
    "sample_MSD.get_Dockets()"
   ]
  },
  {
   "cell_type": "markdown",
   "id": "1e3bf493-da0f-42bc-904d-fc4c6dd6ca2b",
   "metadata": {},
   "source": [
    "# 2. Get the peptide file paths from each Docket"
   ]
  },
  {
   "cell_type": "code",
   "execution_count": 3,
   "id": "8bb0f3ca-f82a-48a8-93e1-7c0b9f60178b",
   "metadata": {},
   "outputs": [
    {
     "data": {
      "text/plain": [
       "{'Drer': <biofile_handling.TransdecoderOutFile at 0x7f8596b5c2e0>,\n",
       " 'Mmus': <biofile_handling.TransdecoderOutFile at 0x7f8596b5ca30>}"
      ]
     },
     "metadata": {},
     "output_type": "display_data"
    },
    {
     "name": "stdout",
     "output_type": "stream",
     "text": [
      "copying /home/ec2-user/glial-origins/output/Drer_adultbrain/GCF_000002035.5_GRCz10_genomic_cDNA.fna.transdecoder.pep to ../../output/DrerMmus_adultbrain_OrthoFinder/GCF_000002035.5_GRCz10_genomic_cDNA.fna.transdecoder.pep\n",
      "copying /home/ec2-user/glial-origins/output/Mmus_adultbrain/GCF_000001635.23_GRCm38.p3_genomic_cDNA.fna.transdecoder.pep to ../../output/DrerMmus_adultbrain_OrthoFinder/GCF_000001635.23_GRCm38.p3_genomic_cDNA.fna.transdecoder.pep\n"
     ]
    }
   ],
   "source": [
    "peptide_files = {pre: sample_MSD.species_Dockets[pre].transdecoder_pep for pre in sample_MSD.species_Dockets}\n",
    "display(peptide_files)\n",
    "\n",
    "for pepfile in peptide_files.values():\n",
    "    start = os.path.abspath(pepfile.path)\n",
    "    end = sample_MSD.directory + pepfile.filename\n",
    "    if not os.path.exists(end):\n",
    "        print('copying', start, 'to', end)\n",
    "        subprocess.run(['cp', start, end])\n",
    "    else:\n",
    "        print('file', start, 'has already been moved')"
   ]
  },
  {
   "cell_type": "markdown",
   "id": "4963be4b-109a-416b-bc59-4459f8d3dd3b",
   "metadata": {},
   "source": [
    "# 3. Run OrthoFinder on all collected peptide files\n",
    "\n",
    "Before running, will check if analysis has already been done - if so, continues."
   ]
  },
  {
   "cell_type": "code",
   "execution_count": 6,
   "id": "7eb64c17-a8f8-43bb-9285-04cecb6c6d9c",
   "metadata": {},
   "outputs": [
    {
     "name": "stdout",
     "output_type": "stream",
     "text": [
      "Running OrthoFinder\n",
      "\n",
      "OrthoFinder version 2.5.4 Copyright (C) 2014 David Emms\n",
      "\n",
      "2022-09-22 20:43:55 : Starting OrthoFinder 2.5.4\n",
      "16 thread(s) for highly parallel tasks (BLAST searches etc.)\n",
      "2 thread(s) for OrthoFinder algorithm\n",
      "\n",
      "Checking required programs are installed\n",
      "----------------------------------------\n",
      "Test can run \"mcl -h\" - ok\n",
      "Test can run \"fastme -i /home/ec2-user/glial-origins/output/DrerMmus_adultbrain_OrthoFinder/OrthoFinder/Results_DrerMmus_adultbrain/Results_Sep22/WorkingDirectory/SimpleTest.phy -o /home/ec2-user/glial-origins/output/DrerMmus_adultbrain_OrthoFinder/OrthoFinder/Results_DrerMmus_adultbrain/Results_Sep22/WorkingDirectory/SimpleTest.tre\" - ok\n",
      "\n",
      "Dividing up work for BLAST for parallel processing\n",
      "--------------------------------------------------\n",
      "2022-09-22 20:43:56 : Creating diamond database 1 of 2\n",
      "2022-09-22 20:43:57 : Creating diamond database 2 of 2\n",
      "\n",
      "Running diamond all-versus-all\n",
      "------------------------------\n",
      "Using 16 thread(s)\n",
      "2022-09-22 20:43:58 : This may take some time....\n",
      "2022-09-22 21:38:47 : Done all-versus-all sequence search\n",
      "\n",
      "Running OrthoFinder algorithm\n",
      "-----------------------------\n",
      "2022-09-22 21:38:47 : Initial processing of each species\n",
      "2022-09-22 21:39:08 : Initial processing of species 1 complete\n",
      "2022-09-22 21:39:26 : Initial processing of species 0 complete\n",
      "2022-09-22 21:39:32 : Connected putative homologues\n",
      "2022-09-22 21:39:34 : Written final scores for species 1 to graph file\n",
      "2022-09-22 21:39:38 : Written final scores for species 0 to graph file\n",
      "\n",
      "WARNING: program called by OrthoFinder produced output to stderr\n",
      "\n",
      "Command: mcl /home/ec2-user/glial-origins/output/DrerMmus_adultbrain_OrthoFinder/OrthoFinder/Results_DrerMmus_adultbrain/Results_Sep22/WorkingDirectory/OrthoFinder_graph.txt -I 1.5 -o /home/ec2-user/glial-origins/output/DrerMmus_adultbrain_OrthoFinder/OrthoFinder/Results_DrerMmus_adultbrain/Results_Sep22/WorkingDirectory/clusters_OrthoFinder_I1.5.txt -te 2 -V all\n",
      "\n",
      "stdout\n",
      "------\n",
      "b''\n",
      "stderr\n",
      "------\n",
      "b'[mcl] cut <10> instances of overlap\\n'\n",
      "2022-09-22 21:40:25 : Ran MCL\n",
      "\n",
      "Writing orthogroups to file\n",
      "---------------------------\n",
      "OrthoFinder assigned 148308 genes (87.5% of total) to 28086 orthogroups. Fifty percent of all genes were in orthogroups with 6 or more genes (G50 was 6) and were contained in the largest 7385 orthogroups (O50 was 7385). There were 11660 orthogroups with all species present and 3356 of these consisted entirely of single-copy genes.\n",
      "\n",
      "2022-09-22 21:40:32 : Done orthogroups\n",
      "\n",
      "Analysing Orthogroups\n",
      "=====================\n",
      "\n",
      "Calculating gene distances\n",
      "--------------------------\n",
      "2022-09-22 21:41:17 : Done\n",
      "2022-09-22 21:41:19 : Done 0 of 14080\n",
      "2022-09-22 21:41:19 : Done 1000 of 14080\n",
      "2022-09-22 21:41:20 : Done 2000 of 14080\n",
      "2022-09-22 21:41:20 : Done 3000 of 14080\n",
      "2022-09-22 21:41:20 : Done 4000 of 14080\n",
      "2022-09-22 21:41:20 : Done 5000 of 14080\n",
      "2022-09-22 21:41:21 : Done 6000 of 14080\n",
      "2022-09-22 21:41:21 : Done 7000 of 14080\n",
      "2022-09-22 21:41:21 : Done 8000 of 14080\n",
      "2022-09-22 21:41:22 : Done 9000 of 14080\n",
      "2022-09-22 21:41:22 : Done 10000 of 14080\n",
      "2022-09-22 21:41:22 : Done 11000 of 14080\n",
      "2022-09-22 21:41:22 : Done 12000 of 14080\n",
      "2022-09-22 21:41:23 : Done 13000 of 14080\n",
      "2022-09-22 21:41:23 : Done 14000 of 14080\n",
      "\n",
      "Inferring gene and species trees\n",
      "--------------------------------\n",
      "\n",
      "Reconciling gene trees and species tree\n",
      "---------------------------------------\n",
      "2022-09-22 21:41:24 : Starting Recon and orthologues\n",
      "2022-09-22 21:41:24 : Starting OF Orthologues\n",
      "2022-09-22 21:41:25 : Done 0 of 14080\n",
      "2022-09-22 21:41:28 : Done 1000 of 14080\n",
      "2022-09-22 21:41:30 : Done 2000 of 14080\n",
      "2022-09-22 21:41:31 : Done 3000 of 14080\n",
      "2022-09-22 21:41:32 : Done 4000 of 14080\n",
      "2022-09-22 21:41:33 : Done 5000 of 14080\n",
      "2022-09-22 21:41:35 : Done 6000 of 14080\n",
      "2022-09-22 21:41:35 : Done 7000 of 14080\n",
      "2022-09-22 21:41:36 : Done 8000 of 14080\n",
      "2022-09-22 21:41:37 : Done 9000 of 14080\n",
      "2022-09-22 21:41:38 : Done 10000 of 14080\n",
      "2022-09-22 21:41:39 : Done 11000 of 14080\n",
      "2022-09-22 21:41:40 : Done 12000 of 14080\n",
      "2022-09-22 21:41:40 : Done 13000 of 14080\n",
      "2022-09-22 21:41:41 : Done 14000 of 14080\n",
      "2022-09-22 21:41:42 : Done OF Orthologues\n",
      "\n",
      "Writing results files\n",
      "=====================\n",
      "2022-09-22 21:41:44 : Done orthologues\n",
      "\n",
      "Results:\n",
      "    /home/ec2-user/glial-origins/output/DrerMmus_adultbrain_OrthoFinder/OrthoFinder/Results_DrerMmus_adultbrain/Results_Sep22/\n",
      "\n",
      "CITATION:\n",
      " When publishing work that uses OrthoFinder please cite:\n",
      " Emms D.M. & Kelly S. (2019), Genome Biology 20:238\n",
      "\n",
      " If you use the species tree in your work then please also cite:\n",
      " Emms D.M. & Kelly S. (2017), MBE 34(12): 3267-3278\n",
      " Emms D.M. & Kelly S. (2018), bioRxiv https://doi.org/10.1101/267914\n"
     ]
    },
    {
     "ename": "FileNotFoundError",
     "evalue": "[Errno 2] No such file or directory: '/home/ec2-user/glial-origins/output/DrerMmus_adultbrain_OrthoFinder/OrthoFinder/Results_DrerMmus_adultbrain/Orthogroups/Orthogroups.tsv'",
     "output_type": "error",
     "traceback": [
      "\u001b[0;31m---------------------------------------------------------------------------\u001b[0m",
      "\u001b[0;31mFileNotFoundError\u001b[0m                         Traceback (most recent call last)",
      "Cell \u001b[0;32mIn [6], line 23\u001b[0m\n\u001b[1;32m     16\u001b[0m     \u001b[38;5;28mprint\u001b[39m(\u001b[38;5;124m'\u001b[39m\u001b[38;5;124mResults folder already exists at\u001b[39m\u001b[38;5;124m'\u001b[39m, results_folder_abspath)\n\u001b[1;32m     18\u001b[0m orthogroups_file \u001b[38;5;241m=\u001b[39m OrthoFinderOutputFile(\n\u001b[1;32m     19\u001b[0m     filename \u001b[38;5;241m=\u001b[39m \u001b[38;5;124m'\u001b[39m\u001b[38;5;124m/Orthogroups/Orthogroups.tsv\u001b[39m\u001b[38;5;124m'\u001b[39m, \n\u001b[1;32m     20\u001b[0m     multispeciesdocket \u001b[38;5;241m=\u001b[39m sample_MSD,\n\u001b[1;32m     21\u001b[0m     directory \u001b[38;5;241m=\u001b[39m results_folder_abspath)\n\u001b[0;32m---> 23\u001b[0m orthogroups_df \u001b[38;5;241m=\u001b[39m \u001b[43mpd\u001b[49m\u001b[38;5;241;43m.\u001b[39;49m\u001b[43mread_csv\u001b[49m\u001b[43m(\u001b[49m\u001b[43morthogroups_file\u001b[49m\u001b[38;5;241;43m.\u001b[39;49m\u001b[43mpath\u001b[49m\u001b[43m,\u001b[49m\u001b[43m \u001b[49m\u001b[43msep\u001b[49m\u001b[43m \u001b[49m\u001b[38;5;241;43m=\u001b[39;49m\u001b[43m \u001b[49m\u001b[38;5;124;43m'\u001b[39;49m\u001b[38;5;130;43;01m\\t\u001b[39;49;00m\u001b[38;5;124;43m'\u001b[39;49m\u001b[43m)\u001b[49m\n\u001b[1;32m     24\u001b[0m display(orthogroups_df)\n",
      "File \u001b[0;32m~/miniconda3/envs/glial_origins/lib/python3.10/site-packages/pandas/util/_decorators.py:311\u001b[0m, in \u001b[0;36mdeprecate_nonkeyword_arguments.<locals>.decorate.<locals>.wrapper\u001b[0;34m(*args, **kwargs)\u001b[0m\n\u001b[1;32m    305\u001b[0m \u001b[38;5;28;01mif\u001b[39;00m \u001b[38;5;28mlen\u001b[39m(args) \u001b[38;5;241m>\u001b[39m num_allow_args:\n\u001b[1;32m    306\u001b[0m     warnings\u001b[38;5;241m.\u001b[39mwarn(\n\u001b[1;32m    307\u001b[0m         msg\u001b[38;5;241m.\u001b[39mformat(arguments\u001b[38;5;241m=\u001b[39marguments),\n\u001b[1;32m    308\u001b[0m         \u001b[38;5;167;01mFutureWarning\u001b[39;00m,\n\u001b[1;32m    309\u001b[0m         stacklevel\u001b[38;5;241m=\u001b[39mstacklevel,\n\u001b[1;32m    310\u001b[0m     )\n\u001b[0;32m--> 311\u001b[0m \u001b[38;5;28;01mreturn\u001b[39;00m \u001b[43mfunc\u001b[49m\u001b[43m(\u001b[49m\u001b[38;5;241;43m*\u001b[39;49m\u001b[43margs\u001b[49m\u001b[43m,\u001b[49m\u001b[43m \u001b[49m\u001b[38;5;241;43m*\u001b[39;49m\u001b[38;5;241;43m*\u001b[39;49m\u001b[43mkwargs\u001b[49m\u001b[43m)\u001b[49m\n",
      "File \u001b[0;32m~/miniconda3/envs/glial_origins/lib/python3.10/site-packages/pandas/io/parsers/readers.py:678\u001b[0m, in \u001b[0;36mread_csv\u001b[0;34m(filepath_or_buffer, sep, delimiter, header, names, index_col, usecols, squeeze, prefix, mangle_dupe_cols, dtype, engine, converters, true_values, false_values, skipinitialspace, skiprows, skipfooter, nrows, na_values, keep_default_na, na_filter, verbose, skip_blank_lines, parse_dates, infer_datetime_format, keep_date_col, date_parser, dayfirst, cache_dates, iterator, chunksize, compression, thousands, decimal, lineterminator, quotechar, quoting, doublequote, escapechar, comment, encoding, encoding_errors, dialect, error_bad_lines, warn_bad_lines, on_bad_lines, delim_whitespace, low_memory, memory_map, float_precision, storage_options)\u001b[0m\n\u001b[1;32m    663\u001b[0m kwds_defaults \u001b[38;5;241m=\u001b[39m _refine_defaults_read(\n\u001b[1;32m    664\u001b[0m     dialect,\n\u001b[1;32m    665\u001b[0m     delimiter,\n\u001b[0;32m   (...)\u001b[0m\n\u001b[1;32m    674\u001b[0m     defaults\u001b[38;5;241m=\u001b[39m{\u001b[38;5;124m\"\u001b[39m\u001b[38;5;124mdelimiter\u001b[39m\u001b[38;5;124m\"\u001b[39m: \u001b[38;5;124m\"\u001b[39m\u001b[38;5;124m,\u001b[39m\u001b[38;5;124m\"\u001b[39m},\n\u001b[1;32m    675\u001b[0m )\n\u001b[1;32m    676\u001b[0m kwds\u001b[38;5;241m.\u001b[39mupdate(kwds_defaults)\n\u001b[0;32m--> 678\u001b[0m \u001b[38;5;28;01mreturn\u001b[39;00m \u001b[43m_read\u001b[49m\u001b[43m(\u001b[49m\u001b[43mfilepath_or_buffer\u001b[49m\u001b[43m,\u001b[49m\u001b[43m \u001b[49m\u001b[43mkwds\u001b[49m\u001b[43m)\u001b[49m\n",
      "File \u001b[0;32m~/miniconda3/envs/glial_origins/lib/python3.10/site-packages/pandas/io/parsers/readers.py:575\u001b[0m, in \u001b[0;36m_read\u001b[0;34m(filepath_or_buffer, kwds)\u001b[0m\n\u001b[1;32m    572\u001b[0m _validate_names(kwds\u001b[38;5;241m.\u001b[39mget(\u001b[38;5;124m\"\u001b[39m\u001b[38;5;124mnames\u001b[39m\u001b[38;5;124m\"\u001b[39m, \u001b[38;5;28;01mNone\u001b[39;00m))\n\u001b[1;32m    574\u001b[0m \u001b[38;5;66;03m# Create the parser.\u001b[39;00m\n\u001b[0;32m--> 575\u001b[0m parser \u001b[38;5;241m=\u001b[39m \u001b[43mTextFileReader\u001b[49m\u001b[43m(\u001b[49m\u001b[43mfilepath_or_buffer\u001b[49m\u001b[43m,\u001b[49m\u001b[43m \u001b[49m\u001b[38;5;241;43m*\u001b[39;49m\u001b[38;5;241;43m*\u001b[39;49m\u001b[43mkwds\u001b[49m\u001b[43m)\u001b[49m\n\u001b[1;32m    577\u001b[0m \u001b[38;5;28;01mif\u001b[39;00m chunksize \u001b[38;5;129;01mor\u001b[39;00m iterator:\n\u001b[1;32m    578\u001b[0m     \u001b[38;5;28;01mreturn\u001b[39;00m parser\n",
      "File \u001b[0;32m~/miniconda3/envs/glial_origins/lib/python3.10/site-packages/pandas/io/parsers/readers.py:932\u001b[0m, in \u001b[0;36mTextFileReader.__init__\u001b[0;34m(self, f, engine, **kwds)\u001b[0m\n\u001b[1;32m    929\u001b[0m     \u001b[38;5;28mself\u001b[39m\u001b[38;5;241m.\u001b[39moptions[\u001b[38;5;124m\"\u001b[39m\u001b[38;5;124mhas_index_names\u001b[39m\u001b[38;5;124m\"\u001b[39m] \u001b[38;5;241m=\u001b[39m kwds[\u001b[38;5;124m\"\u001b[39m\u001b[38;5;124mhas_index_names\u001b[39m\u001b[38;5;124m\"\u001b[39m]\n\u001b[1;32m    931\u001b[0m \u001b[38;5;28mself\u001b[39m\u001b[38;5;241m.\u001b[39mhandles: IOHandles \u001b[38;5;241m|\u001b[39m \u001b[38;5;28;01mNone\u001b[39;00m \u001b[38;5;241m=\u001b[39m \u001b[38;5;28;01mNone\u001b[39;00m\n\u001b[0;32m--> 932\u001b[0m \u001b[38;5;28mself\u001b[39m\u001b[38;5;241m.\u001b[39m_engine \u001b[38;5;241m=\u001b[39m \u001b[38;5;28;43mself\u001b[39;49m\u001b[38;5;241;43m.\u001b[39;49m\u001b[43m_make_engine\u001b[49m\u001b[43m(\u001b[49m\u001b[43mf\u001b[49m\u001b[43m,\u001b[49m\u001b[43m \u001b[49m\u001b[38;5;28;43mself\u001b[39;49m\u001b[38;5;241;43m.\u001b[39;49m\u001b[43mengine\u001b[49m\u001b[43m)\u001b[49m\n",
      "File \u001b[0;32m~/miniconda3/envs/glial_origins/lib/python3.10/site-packages/pandas/io/parsers/readers.py:1216\u001b[0m, in \u001b[0;36mTextFileReader._make_engine\u001b[0;34m(self, f, engine)\u001b[0m\n\u001b[1;32m   1212\u001b[0m     mode \u001b[38;5;241m=\u001b[39m \u001b[38;5;124m\"\u001b[39m\u001b[38;5;124mrb\u001b[39m\u001b[38;5;124m\"\u001b[39m\n\u001b[1;32m   1213\u001b[0m \u001b[38;5;66;03m# error: No overload variant of \"get_handle\" matches argument types\u001b[39;00m\n\u001b[1;32m   1214\u001b[0m \u001b[38;5;66;03m# \"Union[str, PathLike[str], ReadCsvBuffer[bytes], ReadCsvBuffer[str]]\"\u001b[39;00m\n\u001b[1;32m   1215\u001b[0m \u001b[38;5;66;03m# , \"str\", \"bool\", \"Any\", \"Any\", \"Any\", \"Any\", \"Any\"\u001b[39;00m\n\u001b[0;32m-> 1216\u001b[0m \u001b[38;5;28mself\u001b[39m\u001b[38;5;241m.\u001b[39mhandles \u001b[38;5;241m=\u001b[39m \u001b[43mget_handle\u001b[49m\u001b[43m(\u001b[49m\u001b[43m  \u001b[49m\u001b[38;5;66;43;03m# type: ignore[call-overload]\u001b[39;49;00m\n\u001b[1;32m   1217\u001b[0m \u001b[43m    \u001b[49m\u001b[43mf\u001b[49m\u001b[43m,\u001b[49m\n\u001b[1;32m   1218\u001b[0m \u001b[43m    \u001b[49m\u001b[43mmode\u001b[49m\u001b[43m,\u001b[49m\n\u001b[1;32m   1219\u001b[0m \u001b[43m    \u001b[49m\u001b[43mencoding\u001b[49m\u001b[38;5;241;43m=\u001b[39;49m\u001b[38;5;28;43mself\u001b[39;49m\u001b[38;5;241;43m.\u001b[39;49m\u001b[43moptions\u001b[49m\u001b[38;5;241;43m.\u001b[39;49m\u001b[43mget\u001b[49m\u001b[43m(\u001b[49m\u001b[38;5;124;43m\"\u001b[39;49m\u001b[38;5;124;43mencoding\u001b[39;49m\u001b[38;5;124;43m\"\u001b[39;49m\u001b[43m,\u001b[49m\u001b[43m \u001b[49m\u001b[38;5;28;43;01mNone\u001b[39;49;00m\u001b[43m)\u001b[49m\u001b[43m,\u001b[49m\n\u001b[1;32m   1220\u001b[0m \u001b[43m    \u001b[49m\u001b[43mcompression\u001b[49m\u001b[38;5;241;43m=\u001b[39;49m\u001b[38;5;28;43mself\u001b[39;49m\u001b[38;5;241;43m.\u001b[39;49m\u001b[43moptions\u001b[49m\u001b[38;5;241;43m.\u001b[39;49m\u001b[43mget\u001b[49m\u001b[43m(\u001b[49m\u001b[38;5;124;43m\"\u001b[39;49m\u001b[38;5;124;43mcompression\u001b[39;49m\u001b[38;5;124;43m\"\u001b[39;49m\u001b[43m,\u001b[49m\u001b[43m \u001b[49m\u001b[38;5;28;43;01mNone\u001b[39;49;00m\u001b[43m)\u001b[49m\u001b[43m,\u001b[49m\n\u001b[1;32m   1221\u001b[0m \u001b[43m    \u001b[49m\u001b[43mmemory_map\u001b[49m\u001b[38;5;241;43m=\u001b[39;49m\u001b[38;5;28;43mself\u001b[39;49m\u001b[38;5;241;43m.\u001b[39;49m\u001b[43moptions\u001b[49m\u001b[38;5;241;43m.\u001b[39;49m\u001b[43mget\u001b[49m\u001b[43m(\u001b[49m\u001b[38;5;124;43m\"\u001b[39;49m\u001b[38;5;124;43mmemory_map\u001b[39;49m\u001b[38;5;124;43m\"\u001b[39;49m\u001b[43m,\u001b[49m\u001b[43m \u001b[49m\u001b[38;5;28;43;01mFalse\u001b[39;49;00m\u001b[43m)\u001b[49m\u001b[43m,\u001b[49m\n\u001b[1;32m   1222\u001b[0m \u001b[43m    \u001b[49m\u001b[43mis_text\u001b[49m\u001b[38;5;241;43m=\u001b[39;49m\u001b[43mis_text\u001b[49m\u001b[43m,\u001b[49m\n\u001b[1;32m   1223\u001b[0m \u001b[43m    \u001b[49m\u001b[43merrors\u001b[49m\u001b[38;5;241;43m=\u001b[39;49m\u001b[38;5;28;43mself\u001b[39;49m\u001b[38;5;241;43m.\u001b[39;49m\u001b[43moptions\u001b[49m\u001b[38;5;241;43m.\u001b[39;49m\u001b[43mget\u001b[49m\u001b[43m(\u001b[49m\u001b[38;5;124;43m\"\u001b[39;49m\u001b[38;5;124;43mencoding_errors\u001b[39;49m\u001b[38;5;124;43m\"\u001b[39;49m\u001b[43m,\u001b[49m\u001b[43m \u001b[49m\u001b[38;5;124;43m\"\u001b[39;49m\u001b[38;5;124;43mstrict\u001b[39;49m\u001b[38;5;124;43m\"\u001b[39;49m\u001b[43m)\u001b[49m\u001b[43m,\u001b[49m\n\u001b[1;32m   1224\u001b[0m \u001b[43m    \u001b[49m\u001b[43mstorage_options\u001b[49m\u001b[38;5;241;43m=\u001b[39;49m\u001b[38;5;28;43mself\u001b[39;49m\u001b[38;5;241;43m.\u001b[39;49m\u001b[43moptions\u001b[49m\u001b[38;5;241;43m.\u001b[39;49m\u001b[43mget\u001b[49m\u001b[43m(\u001b[49m\u001b[38;5;124;43m\"\u001b[39;49m\u001b[38;5;124;43mstorage_options\u001b[39;49m\u001b[38;5;124;43m\"\u001b[39;49m\u001b[43m,\u001b[49m\u001b[43m \u001b[49m\u001b[38;5;28;43;01mNone\u001b[39;49;00m\u001b[43m)\u001b[49m\u001b[43m,\u001b[49m\n\u001b[1;32m   1225\u001b[0m \u001b[43m\u001b[49m\u001b[43m)\u001b[49m\n\u001b[1;32m   1226\u001b[0m \u001b[38;5;28;01massert\u001b[39;00m \u001b[38;5;28mself\u001b[39m\u001b[38;5;241m.\u001b[39mhandles \u001b[38;5;129;01mis\u001b[39;00m \u001b[38;5;129;01mnot\u001b[39;00m \u001b[38;5;28;01mNone\u001b[39;00m\n\u001b[1;32m   1227\u001b[0m f \u001b[38;5;241m=\u001b[39m \u001b[38;5;28mself\u001b[39m\u001b[38;5;241m.\u001b[39mhandles\u001b[38;5;241m.\u001b[39mhandle\n",
      "File \u001b[0;32m~/miniconda3/envs/glial_origins/lib/python3.10/site-packages/pandas/io/common.py:786\u001b[0m, in \u001b[0;36mget_handle\u001b[0;34m(path_or_buf, mode, encoding, compression, memory_map, is_text, errors, storage_options)\u001b[0m\n\u001b[1;32m    781\u001b[0m \u001b[38;5;28;01melif\u001b[39;00m \u001b[38;5;28misinstance\u001b[39m(handle, \u001b[38;5;28mstr\u001b[39m):\n\u001b[1;32m    782\u001b[0m     \u001b[38;5;66;03m# Check whether the filename is to be opened in binary mode.\u001b[39;00m\n\u001b[1;32m    783\u001b[0m     \u001b[38;5;66;03m# Binary mode does not support 'encoding' and 'newline'.\u001b[39;00m\n\u001b[1;32m    784\u001b[0m     \u001b[38;5;28;01mif\u001b[39;00m ioargs\u001b[38;5;241m.\u001b[39mencoding \u001b[38;5;129;01mand\u001b[39;00m \u001b[38;5;124m\"\u001b[39m\u001b[38;5;124mb\u001b[39m\u001b[38;5;124m\"\u001b[39m \u001b[38;5;129;01mnot\u001b[39;00m \u001b[38;5;129;01min\u001b[39;00m ioargs\u001b[38;5;241m.\u001b[39mmode:\n\u001b[1;32m    785\u001b[0m         \u001b[38;5;66;03m# Encoding\u001b[39;00m\n\u001b[0;32m--> 786\u001b[0m         handle \u001b[38;5;241m=\u001b[39m \u001b[38;5;28;43mopen\u001b[39;49m\u001b[43m(\u001b[49m\n\u001b[1;32m    787\u001b[0m \u001b[43m            \u001b[49m\u001b[43mhandle\u001b[49m\u001b[43m,\u001b[49m\n\u001b[1;32m    788\u001b[0m \u001b[43m            \u001b[49m\u001b[43mioargs\u001b[49m\u001b[38;5;241;43m.\u001b[39;49m\u001b[43mmode\u001b[49m\u001b[43m,\u001b[49m\n\u001b[1;32m    789\u001b[0m \u001b[43m            \u001b[49m\u001b[43mencoding\u001b[49m\u001b[38;5;241;43m=\u001b[39;49m\u001b[43mioargs\u001b[49m\u001b[38;5;241;43m.\u001b[39;49m\u001b[43mencoding\u001b[49m\u001b[43m,\u001b[49m\n\u001b[1;32m    790\u001b[0m \u001b[43m            \u001b[49m\u001b[43merrors\u001b[49m\u001b[38;5;241;43m=\u001b[39;49m\u001b[43merrors\u001b[49m\u001b[43m,\u001b[49m\n\u001b[1;32m    791\u001b[0m \u001b[43m            \u001b[49m\u001b[43mnewline\u001b[49m\u001b[38;5;241;43m=\u001b[39;49m\u001b[38;5;124;43m\"\u001b[39;49m\u001b[38;5;124;43m\"\u001b[39;49m\u001b[43m,\u001b[49m\n\u001b[1;32m    792\u001b[0m \u001b[43m        \u001b[49m\u001b[43m)\u001b[49m\n\u001b[1;32m    793\u001b[0m     \u001b[38;5;28;01melse\u001b[39;00m:\n\u001b[1;32m    794\u001b[0m         \u001b[38;5;66;03m# Binary mode\u001b[39;00m\n\u001b[1;32m    795\u001b[0m         handle \u001b[38;5;241m=\u001b[39m \u001b[38;5;28mopen\u001b[39m(handle, ioargs\u001b[38;5;241m.\u001b[39mmode)\n",
      "\u001b[0;31mFileNotFoundError\u001b[0m: [Errno 2] No such file or directory: '/home/ec2-user/glial-origins/output/DrerMmus_adultbrain_OrthoFinder/OrthoFinder/Results_DrerMmus_adultbrain/Orthogroups/Orthogroups.tsv'"
     ]
    }
   ],
   "source": [
    "results_folder = '_'.join(['Results', sample_MSD.species_concat, sample_MSD.global_conditions])\n",
    "of_folder = 'OrthoFinder/'\n",
    "results_folder_abspath = os.path.abspath(sample_MSD.directory + of_folder + results_folder)\n",
    "of_folder_abspath = os.path.abspath(sample_MSD.directory + of_folder)\n",
    "\n",
    "warn = True\n",
    "\n",
    "if not os.path.exists(of_folder_abspath):\n",
    "    subprocess.run(['mkdir', of_folder_abspath])\n",
    "\n",
    "if not os.path.exists(results_folder_abspath):\n",
    "    print('Running OrthoFinder')\n",
    "    subprocess.run([ORTHOFINDER_LOC, '-f', sample_MSD.directory, '-o', results_folder_abspath])\n",
    "else:\n",
    "    print('Results folder already exists at', results_folder_abspath)\n",
    "\n",
    "orthogroups_file = OrthoFinderOutputFile(\n",
    "    filename = '/Orthogroups/Orthogroups.tsv', \n",
    "    multispeciesdocket = sample_MSD,\n",
    "    directory = results_folder_abspath)\n",
    "\n",
    "orthogroups_df = pd.read_csv(orthogroups_file.path, sep = '\\t')\n",
    "display(orthogroups_df)"
   ]
  },
  {
   "cell_type": "markdown",
   "id": "61be3acd-f098-44bb-bbf4-9c9bea6a1150",
   "metadata": {},
   "source": [
    "# 4. Generate Orthofinder_exc file from gxc file of each starting dataset"
   ]
  },
  {
   "cell_type": "code",
   "execution_count": null,
   "id": "dbac4c37-1aff-4fdc-9992-a2203b9ef111",
   "metadata": {},
   "outputs": [],
   "source": [
    "for pre in sample_MSD.species_Dockets.keys():\n",
    "    \n",
    "    exc_filename = sample_MSD.species_Dockets[pre].gxc.filename.replace('.' + sample_MSD.species_Dockets[pre].gxc.filetype, '_as' + sample_MSD.species_concat + 'Orthogroup.' + sample_MSD.species_Dockets[pre].gxc.filetype)\n",
    "    \n",
    "    exc = ExcFile(\n",
    "            filename = exc_filename,\n",
    "            sampledict = sample_MSD.SampleDicts[pre],\n",
    "            gxcfile = sample_MSD.species_Dockets[pre].gxc,\n",
    "            embedding = 'Orthogroup'\n",
    "            )\n",
    "                                                                        \n",
    "    if os.path.exists(exc.path):\n",
    "        print('Orthofinder_exc file already exists at', exc.path)\n",
    "        sample_MSD.species_Dockets[pre].add_keyfile(exc, 'Orthogroup_exc')\n",
    "        \n",
    "        continue\n",
    "                                                                        \n",
    "    gtf_idmm_df = pd.read_csv(sample_MSD.species_Dockets[pre].gtf_idmm.path, index_col = 0, sep = '\\t')\n",
    "    species_column = sample_MSD.species_Dockets[pre].cdna.filename + '.transdecoder'\n",
    "    \n",
    "    orthogroups_df_copy = orthogroups_df.copy(deep = True)\n",
    "    \n",
    "    orthogroups_df_copy['protein_id'] = orthogroups_df_copy[species_column].str.split(', ')\n",
    "    orthogroups_df_copy = orthogroups_df_copy.explode('protein_id')\n",
    "    orthogroups_df_copy['transcript_id'] = orthogroups_df_copy['protein_id'].str.split('.', expand = True)[0]\n",
    "    \n",
    "    og_keys = orthogroups_df_copy[['transcript_id', 'protein_id', 'Orthogroup']].drop_duplicates()\n",
    "    og_keys.dropna(inplace = True)\n",
    "    \n",
    "    og_idmm_df = gtf_idmm_df.merge(og_keys, on = 'transcript_id')\n",
    "    \n",
    "    og_idmm_filename = pre + '_' + sample_MSD.SampleDicts[pre].conditions + '_og-idmm.tsv'\n",
    "    \n",
    "    og_idmm = IdmmFile(\n",
    "        filename = og_idmm_filename,\n",
    "        sampledict = sample_MSD.SampleDicts[pre],\n",
    "        kind = 'og_idmm',\n",
    "        sources = [orthogroups_file, sample_MSD.species_Dockets[pre].gtf_idmm]\n",
    "        )\n",
    "    \n",
    "    og_idmm_df.to_csv(og_idmm.path, sep = '\\t', index = None)\n",
    "    \n",
    "    sample_MSD.species_Dockets[pre].add_keyfile(og_idmm, 'og_idmm')\n",
    "    sample_MSD.species_Dockets[pre].add_keyfile(orthogroups_file, sample_MSD.species_concat + '_OGfile')\n",
    "    \n",
    "    og_gene_keys = og_idmm_df[['gene_name', 'Orthogroup']].drop_duplicates()\n",
    "    \n",
    "    gxc_df = pd.read_csv(sample_MSD.species_Dockets[pre].gxc.path, sep = '\\t')\n",
    "    gxc_original_dataname = gxc_df.columns[0]\n",
    "    gxc_df.rename(columns = {gxc_original_dataname: 'gene_name'}, inplace = True)\n",
    "    exc_df = og_gene_keys.merge(gxc_df, on = 'gene_name')\n",
    "    \n",
    "    exc_df = exc_df.drop(columns = 'gene_name')\n",
    "    exc_df = exc_df.groupby('Orthogroup').agg({i: ('first' if i == 'Orthogroup' else 'sum') for i in exc_df.columns}).reset_index(drop = True)\n",
    "    \n",
    "    exc_df.to_csv(exc.path, sep = '\\t', index = None)\n",
    "    sample_MSD.species_Dockets[pre].add_keyfile(exc, 'Orthogroup' + sample_MSD.species_concat + '_exc')\n",
    "    \n",
    "    display(exc_df)"
   ]
  },
  {
   "cell_type": "markdown",
   "id": "c135c9ee-8f04-4bf5-9916-7b3eeb0f42b0",
   "metadata": {},
   "source": [
    "# 5. Generate merged exc file for all samples in dataset\n",
    "\n",
    "(TO BE WRITTEN)"
   ]
  },
  {
   "cell_type": "code",
   "execution_count": null,
   "id": "c30778eb-5480-4fda-84a2-462932b09b6a",
   "metadata": {},
   "outputs": [],
   "source": []
  },
  {
   "cell_type": "markdown",
   "id": "984a991a-f659-464f-aaf0-62637fb3bc88",
   "metadata": {},
   "source": [
    "# 6. Pickle the species_Docket files"
   ]
  },
  {
   "cell_type": "code",
   "execution_count": 6,
   "id": "f873483e-f652-4d15-bc4c-fe2ff9892456",
   "metadata": {},
   "outputs": [],
   "source": [
    "for pre in sample_MSD.species_Dockets.keys():\n",
    "\n",
    "    dill_filename = sample_MSD.species_Dockets[pre].directory + '_'.join([pre, sample_MSD.species_Dockets[pre].conditions, 'sample_Docket.pkl'])\n",
    "\n",
    "    with open(dill_filename, 'wb') as file:\n",
    "        dill.dump(sample_MSD.species_Dockets[pre], file)"
   ]
  },
  {
   "cell_type": "code",
   "execution_count": null,
   "id": "b1e678ce-1ec4-4a8d-9ebf-c77ed8d236b4",
   "metadata": {},
   "outputs": [],
   "source": []
  },
  {
   "cell_type": "code",
   "execution_count": null,
   "id": "fb57f7f7-81b2-4369-b0f5-2bc28412a0d0",
   "metadata": {},
   "outputs": [],
   "source": []
  },
  {
   "cell_type": "code",
   "execution_count": null,
   "id": "090a25cf-13eb-440e-9150-6525caeef939",
   "metadata": {},
   "outputs": [],
   "source": []
  },
  {
   "cell_type": "code",
   "execution_count": null,
   "id": "c50f981e-021c-4e4a-8198-a1ffb333ff17",
   "metadata": {},
   "outputs": [],
   "source": []
  },
  {
   "cell_type": "code",
   "execution_count": null,
   "id": "2006722c-b684-403e-a1bf-1c22ec0fa79d",
   "metadata": {},
   "outputs": [],
   "source": []
  }
 ],
 "metadata": {
  "kernelspec": {
   "display_name": "Python 3 (ipykernel)",
   "language": "python",
   "name": "python3"
  },
  "language_info": {
   "codemirror_mode": {
    "name": "ipython",
    "version": 3
   },
   "file_extension": ".py",
   "mimetype": "text/x-python",
   "name": "python",
   "nbconvert_exporter": "python",
   "pygments_lexer": "ipython3",
   "version": "3.10.6"
  }
 },
 "nbformat": 4,
 "nbformat_minor": 5
}
